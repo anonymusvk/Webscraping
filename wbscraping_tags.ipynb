{
  "nbformat": 4,
  "nbformat_minor": 0,
  "metadata": {
    "colab": {
      "name": "wbscraping -tags",
      "provenance": [],
      "collapsed_sections": [],
      "authorship_tag": "ABX9TyM88Hnw0wuyd7azTDVMHaZY",
      "include_colab_link": true
    },
    "kernelspec": {
      "name": "python3",
      "display_name": "Python 3"
    },
    "language_info": {
      "name": "python"
    }
  },
  "cells": [
    {
      "cell_type": "markdown",
      "metadata": {
        "id": "view-in-github",
        "colab_type": "text"
      },
      "source": [
        "<a href=\"https://colab.research.google.com/github/anonymusvk/Webscraping/blob/main/wbscraping_tags.ipynb\" target=\"_parent\"><img src=\"https://colab.research.google.com/assets/colab-badge.svg\" alt=\"Open In Colab\"/></a>"
      ]
    },
    {
      "cell_type": "code",
      "execution_count": null,
      "metadata": {
        "colab": {
          "base_uri": "https://localhost:8080/"
        },
        "id": "_j-zR1YOk8oq",
        "outputId": "b4e86938-cfa3-42c8-b350-8e40cad24647"
      },
      "outputs": [
        {
          "output_type": "stream",
          "name": "stdout",
          "text": [
            "im here\n"
          ]
        }
      ],
      "source": [
        "import requests\n",
        "url=\"https://quotes.toscrape.com/\"\n",
        "resp=requests.get(url)\n",
        "# print(resp.status_code) #value should be between 200 to 299 . ideally it should be 200.\n",
        "from bs4 import BeautifulSoup\n",
        "soup=BeautifulSoup(resp.content,'lxml')\n",
        "quotes=soup.find_all('span',class_='text')\n",
        "quote=[]\n",
        "for i in quotes:\n",
        "    quote.append(i.text[1:-1])\n",
        "# print(quote)\n",
        "authors=soup.find_all('small',class_='author')\n",
        "author=[]\n",
        "for i in authors:\n",
        "    author.append(i.text)\n",
        "# print(author)\n",
        "tags=soup.find_all('div',class_=\"tags\")\n",
        "# for i in tags[0].find_all('a',class_='tag'):\n",
        "#     print(i.text)\n",
        "total_tags=[]\n",
        "for i in range(len(tags)):\n",
        "    k=[]\n",
        "    for j in tags[i].find_all('a',class_='tag'):\n",
        "        k.append(j.text)\n",
        "    total_tags.append(','.join(k))\n",
        "# print(total_tags)\n",
        "import pandas as pd\n",
        "d=pd.DataFrame()\n",
        "d['quotes']=quote\n",
        "d['authors']=authors\n",
        "d['tags']=total_tags\n",
        "print(\"im here\")\n",
        "d.to_csv('quotes.csv')"
      ]
    }
  ]
}